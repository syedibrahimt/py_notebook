{
 "cells": [
  {
   "cell_type": "code",
   "execution_count": 1,
   "id": "3acf44e7-8a2b-4cec-8a5b-c6e34f756e05",
   "metadata": {},
   "outputs": [],
   "source": [
    "sentence = 'the quick brown fox jumped over the fence and saw the lion and got scared and then jumped back to the original place'"
   ]
  },
  {
   "cell_type": "markdown",
   "id": "d21bbe68-b222-4cdf-9f1d-5118a1ad6639",
   "metadata": {},
   "source": [
    "## with python built in dictionary"
   ]
  },
  {
   "cell_type": "code",
   "execution_count": 3,
   "id": "29715905-2091-48eb-81f0-7cce949f0d74",
   "metadata": {},
   "outputs": [
    {
     "name": "stdout",
     "output_type": "stream",
     "text": [
      "{'the': 4, 'quick': 1, 'brown': 1, 'fox': 1, 'jumped': 2, 'over': 1, 'fence': 1, 'and': 3, 'saw': 1, 'lion': 1, 'got': 1, 'scared': 1, 'then': 1, 'back': 1, 'to': 1, 'original': 1, 'place': 1}\n"
     ]
    }
   ],
   "source": [
    "word_counter = {}\n",
    "for word in sentence.split():\n",
    "    if word in word_counter:\n",
    "        word_counter[word] += 1\n",
    "    else:\n",
    "        word_counter[word] = 1\n",
    "print(word_counter)"
   ]
  },
  {
   "cell_type": "code",
   "execution_count": 4,
   "id": "1d50b716-480a-4158-aab9-1b9ac2c13b77",
   "metadata": {},
   "outputs": [
    {
     "name": "stdout",
     "output_type": "stream",
     "text": [
      "{'the': 4, 'quick': 1, 'brown': 1, 'fox': 1, 'jumped': 2, 'over': 1, 'fence': 1, 'and': 3, 'saw': 1, 'lion': 1, 'got': 1, 'scared': 1, 'then': 1, 'back': 1, 'to': 1, 'original': 1, 'place': 1}\n"
     ]
    }
   ],
   "source": [
    "print(word_counter)"
   ]
  },
  {
   "cell_type": "markdown",
   "id": "bb702d2f-5cae-4d29-95c2-447c86a955c3",
   "metadata": {},
   "source": [
    "## Using python collection defaultdict"
   ]
  },
  {
   "cell_type": "code",
   "execution_count": 6,
   "id": "8efa130c-bc3c-4642-881e-3f1555166da7",
   "metadata": {},
   "outputs": [
    {
     "data": {
      "text/plain": [
       "defaultdict(int,\n",
       "            {'the': 4,\n",
       "             'quick': 1,\n",
       "             'brown': 1,\n",
       "             'fox': 1,\n",
       "             'jumped': 2,\n",
       "             'over': 1,\n",
       "             'fence': 1,\n",
       "             'and': 3,\n",
       "             'saw': 1,\n",
       "             'lion': 1,\n",
       "             'got': 1,\n",
       "             'scared': 1,\n",
       "             'then': 1,\n",
       "             'back': 1,\n",
       "             'to': 1,\n",
       "             'original': 1,\n",
       "             'place': 1})"
      ]
     },
     "execution_count": 6,
     "metadata": {},
     "output_type": "execute_result"
    }
   ],
   "source": [
    "from collections import defaultdict\n",
    "\n",
    "another_word_counter = defaultdict(int)\n",
    "\n",
    "for word in sentence.split():\n",
    "    another_word_counter[word] += 1\n",
    "\n",
    "another_word_counter"
   ]
  },
  {
   "cell_type": "markdown",
   "id": "dac0d280-eaed-4524-b00d-08bbbc99f46e",
   "metadata": {},
   "source": [
    "## using defaultdict with list type"
   ]
  },
  {
   "cell_type": "code",
   "execution_count": 8,
   "id": "9c987936-6acc-413d-a43f-e6a20cdd3688",
   "metadata": {},
   "outputs": [],
   "source": [
    "dep_employees = [\n",
    "    ('Engineering', 'Alice'),\n",
    "    ('Sales', 'Bob'),\n",
    "    ('Engineering', 'Charlie'),\n",
    "    ('HR', 'David'),\n",
    "    ('Sales', 'Eve'),\n",
    "]"
   ]
  },
  {
   "cell_type": "code",
   "execution_count": 10,
   "id": "3329d482-86db-48ca-899d-720075c015d1",
   "metadata": {},
   "outputs": [
    {
     "data": {
      "text/plain": [
       "defaultdict(list,\n",
       "            {'Engineering': ['Alice', 'Charlie'],\n",
       "             'Sales': ['Bob', 'Eve'],\n",
       "             'HR': ['David']})"
      ]
     },
     "execution_count": 10,
     "metadata": {},
     "output_type": "execute_result"
    }
   ],
   "source": [
    "employee_dict = defaultdict(list)\n",
    "for department, emp_name in dep_employees:\n",
    "    employee_dict[department].append(emp_name)\n",
    "employee_dict"
   ]
  },
  {
   "cell_type": "code",
   "execution_count": 11,
   "id": "2a8d721f-85a3-469d-b408-a5aa89d92f11",
   "metadata": {},
   "outputs": [
    {
     "data": {
      "text/plain": [
       "<module 'string' from '/opt/anaconda3/lib/python3.13/string.py'>"
      ]
     },
     "execution_count": 11,
     "metadata": {},
     "output_type": "execute_result"
    }
   ],
   "source": [
    "import string\n",
    "string"
   ]
  },
  {
   "cell_type": "code",
   "execution_count": 12,
   "id": "413187d6-90ed-4428-868d-968f92d50dea",
   "metadata": {},
   "outputs": [
    {
     "name": "stdout",
     "output_type": "stream",
     "text": [
      "<module 'string' from '/opt/anaconda3/lib/python3.13/string.py'>\n"
     ]
    }
   ],
   "source": [
    "print(string)"
   ]
  },
  {
   "cell_type": "code",
   "execution_count": 13,
   "id": "b7b862c8-f812-42be-b17e-d8927d09d15e",
   "metadata": {},
   "outputs": [
    {
     "data": {
      "text/plain": [
       "'!\"#$%&\\'()*+,-./:;<=>?@[\\\\]^_`{|}~'"
      ]
     },
     "execution_count": 13,
     "metadata": {},
     "output_type": "execute_result"
    }
   ],
   "source": [
    "string.punctuation"
   ]
  },
  {
   "cell_type": "code",
   "execution_count": 15,
   "id": "4ece5e00-6a1a-419b-82c7-a72c7658a953",
   "metadata": {},
   "outputs": [
    {
     "name": "stdout",
     "output_type": "stream",
     "text": [
      "defaultdict(<class 'list'>, {3: ['the', 'fox', 'the', 'dog'], 5: ['quick', 'brown', 'jumps'], 4: ['over', 'lazy']})\n"
     ]
    }
   ],
   "source": [
    "def group_words_by_length(sentence: str):\n",
    "    translator = str.maketrans('','',string.punctuation)\n",
    "    sentence = sentence.lower().translate(translator)\n",
    "    word_grouper = defaultdict(list)\n",
    "    for word in sentence.split():\n",
    "        word_grouper[len(word)].append(word)\n",
    "    return word_grouper\n",
    "\n",
    "text = \"The quick brown fox jumps over the lazy dog.\"\n",
    "grouped_words = group_words_by_length(text)\n",
    "print(grouped_words)"
   ]
  },
  {
   "cell_type": "markdown",
   "id": "fab4aae4-f094-4f2d-bc92-b494a8ec228c",
   "metadata": {},
   "source": [
    "## Write a Python function find_most_frequent_labels that takes a list of string labels and an integer n as input. The function should identify the n most common labels in the list."
   ]
  },
  {
   "cell_type": "code",
   "execution_count": 18,
   "id": "dd3440bc-7953-4d59-9f37-08859c760fea",
   "metadata": {},
   "outputs": [
    {
     "name": "stdout",
     "output_type": "stream",
     "text": [
      "[('spam', 6), ('ham', 5)]\n"
     ]
    }
   ],
   "source": [
    "from collections import Counter\n",
    "from typing import List, Tuple\n",
    "\n",
    "def find_most_frequent_labels(labels: List[str], n: int) -> List[Tuple[str, int]]:\n",
    "    \"\"\"\n",
    "    Finds the n most frequent labels in a list of labels.\n",
    "    \"\"\"\n",
    "    label_counter = Counter(labels)\n",
    "    return label_counter.most_common(n)\n",
    "\n",
    "# Example Usage:\n",
    "dataset_labels = [\n",
    "    'spam', 'ham', 'spam', 'spam', 'ham', 'ham',\n",
    "    'promo', 'spam', 'ham', 'spam', 'promo', 'ham', 'spam'\n",
    "]\n",
    "# In the list above: 'spam' appears 6 times, 'ham' 5 times, 'promo' 2 times.\n",
    "\n",
    "top_2 = find_most_frequent_labels(dataset_labels, 2)\n",
    "print(top_2)\n",
    "\n",
    "# Expected output:\n",
    "# [('spam', 6), ('ham', 5)]"
   ]
  },
  {
   "cell_type": "code",
   "execution_count": null,
   "id": "849b4245-da43-42c8-8ab5-7d0525f49512",
   "metadata": {},
   "outputs": [],
   "source": []
  }
 ],
 "metadata": {
  "kernelspec": {
   "display_name": "Python [conda env:base] *",
   "language": "python",
   "name": "conda-base-py"
  },
  "language_info": {
   "codemirror_mode": {
    "name": "ipython",
    "version": 3
   },
   "file_extension": ".py",
   "mimetype": "text/x-python",
   "name": "python",
   "nbconvert_exporter": "python",
   "pygments_lexer": "ipython3",
   "version": "3.13.5"
  }
 },
 "nbformat": 4,
 "nbformat_minor": 5
}
