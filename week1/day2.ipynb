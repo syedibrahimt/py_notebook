{
 "cells": [
  {
   "cell_type": "markdown",
   "id": "a99ac307-c971-457b-96aa-da608d32ae35",
   "metadata": {},
   "source": [
    "## Recap from Day 1"
   ]
  },
  {
   "cell_type": "code",
   "execution_count": 1,
   "id": "729aad40-50b2-4d70-b539-ae8734bd5cbb",
   "metadata": {},
   "outputs": [],
   "source": [
    "from collections import defaultdict, Counter"
   ]
  },
  {
   "cell_type": "code",
   "execution_count": 2,
   "id": "50235a24-35af-4ef0-a8a0-5ec08aa91977",
   "metadata": {},
   "outputs": [],
   "source": [
    "sentence = 'In the name of Allah. the entirely merciful and the especially merciful'"
   ]
  },
  {
   "cell_type": "code",
   "execution_count": 4,
   "id": "8691bb0b-51b4-45de-ac21-ca27087948b4",
   "metadata": {},
   "outputs": [
    {
     "data": {
      "text/plain": [
       "defaultdict(int,\n",
       "            {'in': 1,\n",
       "             'the': 3,\n",
       "             'name': 1,\n",
       "             'of': 1,\n",
       "             'allah.': 1,\n",
       "             'entirely': 1,\n",
       "             'merciful': 2,\n",
       "             'and': 1,\n",
       "             'especially': 1})"
      ]
     },
     "execution_count": 4,
     "metadata": {},
     "output_type": "execute_result"
    }
   ],
   "source": [
    "word_counter = defaultdict(int)\n",
    "for word in sentence.split():\n",
    "    word_counter[word.lower()] += 1\n",
    "word_counter"
   ]
  },
  {
   "cell_type": "code",
   "execution_count": 5,
   "id": "2b5a93a8-405e-411d-86d7-7535f64c5022",
   "metadata": {},
   "outputs": [
    {
     "name": "stdout",
     "output_type": "stream",
     "text": [
      "Counter({'the': 3, 'merciful': 2, 'In': 1, 'name': 1, 'of': 1, 'Allah.': 1, 'entirely': 1, 'and': 1, 'especially': 1})\n"
     ]
    }
   ],
   "source": [
    "grouped_words = Counter(sentence.split())\n",
    "print(grouped_words)"
   ]
  },
  {
   "cell_type": "code",
   "execution_count": 6,
   "id": "00fd6c7e-9931-4c0c-aa8d-06bde8ecf4a8",
   "metadata": {},
   "outputs": [
    {
     "data": {
      "text/plain": [
       "[('the', 3), ('merciful', 2)]"
      ]
     },
     "execution_count": 6,
     "metadata": {},
     "output_type": "execute_result"
    }
   ],
   "source": [
    "grouped_words.most_common(2)"
   ]
  },
  {
   "cell_type": "markdown",
   "id": "68b748d6-b6e8-4a0b-b2d6-0e210a152443",
   "metadata": {},
   "source": [
    "## Closing the Recap From Day1"
   ]
  },
  {
   "cell_type": "code",
   "execution_count": 19,
   "id": "e149d4f1-8255-49f9-97ca-97a318e11909",
   "metadata": {},
   "outputs": [
    {
     "data": {
      "text/plain": [
       "[1, 2, 3, 4, 5, 6, 7, 8, 9]"
      ]
     },
     "execution_count": 19,
     "metadata": {},
     "output_type": "execute_result"
    }
   ],
   "source": [
    "my_list = [1,2,3,4,5,6,7,8,9]\n",
    "my_list"
   ]
  },
  {
   "cell_type": "code",
   "execution_count": 15,
   "id": "d7e796cf-449c-4f07-af1b-1ebbb4e1f1bc",
   "metadata": {},
   "outputs": [
    {
     "name": "stdout",
     "output_type": "stream",
     "text": [
      "[1, 2, 3, 4, 5, 6, 7, 8, 9]\n"
     ]
    }
   ],
   "source": [
    "print(my_list)"
   ]
  },
  {
   "cell_type": "code",
   "execution_count": 16,
   "id": "16dfe565-fb5d-4870-8e9f-4cee326dac49",
   "metadata": {},
   "outputs": [
    {
     "data": {
      "text/plain": [
       "2"
      ]
     },
     "execution_count": 16,
     "metadata": {},
     "output_type": "execute_result"
    }
   ],
   "source": [
    "my_list[1]"
   ]
  },
  {
   "cell_type": "code",
   "execution_count": 27,
   "id": "67d560de-e60a-4f5d-a69e-f71e61a14670",
   "metadata": {},
   "outputs": [
    {
     "name": "stdout",
     "output_type": "stream",
     "text": [
      "[9, 8, 7, 6, 5, 4, 3, 2, 1]\n"
     ]
    }
   ],
   "source": [
    "print(my_list[::-1])"
   ]
  },
  {
   "cell_type": "markdown",
   "id": "0531b58f-9c8b-4350-a4de-3339b5b3eeb7",
   "metadata": {},
   "source": [
    "## Write a function process_sensor_readings that takes a list of sensor readings. The function must perform two steps:\n",
    " \n",
    "### Extract only the valid readings (the ones at the even indices).\n",
    " \n",
    "### Return these valid readings in reverse chronological order (i.e., the last valid reading should be first in the new list)."
   ]
  },
  {
   "cell_type": "code",
   "execution_count": 34,
   "id": "5e81ccfb-7562-499c-ac6b-b47753939ed5",
   "metadata": {},
   "outputs": [],
   "source": [
    "def process_sensor_readings(sensors):\n",
    "    return sensors[::2][::-1]"
   ]
  },
  {
   "cell_type": "code",
   "execution_count": 35,
   "id": "f722e695-5d3c-44d5-9777-08ae32babaf3",
   "metadata": {},
   "outputs": [
    {
     "name": "stdout",
     "output_type": "stream",
     "text": [
      "[13, 11, 15, 12, 10]\n"
     ]
    }
   ],
   "source": [
    "all_readings = [10, 0, 12, 0, 15, 0, 11, 0, 13]\n",
    "\n",
    "# The valid readings at even indices are: [10, 12, 15, 11, 13]\n",
    "# The final result should be those readings, reversed.\n",
    "\n",
    "processed_data = process_sensor_readings(all_readings)\n",
    "print(processed_data)"
   ]
  },
  {
   "cell_type": "code",
   "execution_count": 36,
   "id": "ea9b65e4-c8b9-4e38-8488-fbc4ad368e75",
   "metadata": {},
   "outputs": [
    {
     "name": "stdout",
     "output_type": "stream",
     "text": [
      "[11, 15, 12, 10]\n"
     ]
    }
   ],
   "source": [
    "even_readings = [10, 0, 12, 0, 15, 0, 11, 0]\n",
    "processed_data = process_sensor_readings(even_readings)\n",
    "print(processed_data)"
   ]
  },
  {
   "cell_type": "code",
   "execution_count": 37,
   "id": "ea4bd4e1-b0ac-401f-a629-33951e186652",
   "metadata": {},
   "outputs": [],
   "source": [
    "student_names = ['syed', 'ibrahim', 'hakeem', 'afrin']\n",
    "student_marks = [77,88,99,100]"
   ]
  },
  {
   "cell_type": "code",
   "execution_count": 38,
   "id": "f78c83f0-6798-493c-bc05-396c490baf3f",
   "metadata": {},
   "outputs": [
    {
     "data": {
      "text/plain": [
       "<zip at 0x137ad5140>"
      ]
     },
     "execution_count": 38,
     "metadata": {},
     "output_type": "execute_result"
    }
   ],
   "source": [
    "zip(student_names, student_marks)"
   ]
  },
  {
   "cell_type": "code",
   "execution_count": 39,
   "id": "d1974c05-6320-4d22-aaf7-0eb82b844954",
   "metadata": {},
   "outputs": [
    {
     "data": {
      "text/plain": [
       "[('syed', 77), ('ibrahim', 88), ('hakeem', 99), ('afrin', 100)]"
      ]
     },
     "execution_count": 39,
     "metadata": {},
     "output_type": "execute_result"
    }
   ],
   "source": [
    "list(zip(student_names, student_marks))"
   ]
  },
  {
   "cell_type": "code",
   "execution_count": 40,
   "id": "cf4b0f93-9774-41cb-94d1-d1e8855b6084",
   "metadata": {},
   "outputs": [
    {
     "name": "stdout",
     "output_type": "stream",
     "text": [
      "syed has 77 marks\n",
      "ibrahim has 88 marks\n",
      "hakeem has 99 marks\n",
      "afrin has 100 marks\n"
     ]
    }
   ],
   "source": [
    "for name, mark in zip(student_names, student_marks):\n",
    "    print(f'{name} has {mark} marks')"
   ]
  },
  {
   "cell_type": "code",
   "execution_count": 41,
   "id": "f6f34c83-7623-4364-9705-a8a321881f2a",
   "metadata": {},
   "outputs": [],
   "source": [
    "zipped_lists = list(zip(student_names, student_marks))"
   ]
  },
  {
   "cell_type": "code",
   "execution_count": 42,
   "id": "a2ed9470-010c-472b-96b6-92460e958035",
   "metadata": {},
   "outputs": [
    {
     "data": {
      "text/plain": [
       "[('syed', 77), ('ibrahim', 88), ('hakeem', 99), ('afrin', 100)]"
      ]
     },
     "execution_count": 42,
     "metadata": {},
     "output_type": "execute_result"
    }
   ],
   "source": [
    "zipped_lists"
   ]
  },
  {
   "cell_type": "code",
   "execution_count": 43,
   "id": "b7aba1a4-bfaa-4f2f-8f49-dd4916396e9c",
   "metadata": {},
   "outputs": [],
   "source": [
    "s_names, s_marks = zip(*zipped_lists)"
   ]
  },
  {
   "cell_type": "code",
   "execution_count": 44,
   "id": "a2881afc-a191-4262-8f09-16f4324299af",
   "metadata": {},
   "outputs": [
    {
     "data": {
      "text/plain": [
       "(77, 88, 99, 100)"
      ]
     },
     "execution_count": 44,
     "metadata": {},
     "output_type": "execute_result"
    }
   ],
   "source": [
    "s_marks"
   ]
  },
  {
   "cell_type": "code",
   "execution_count": 46,
   "id": "22274c5c-cc8f-4348-b46a-fe7e246ae5cb",
   "metadata": {},
   "outputs": [
    {
     "data": {
      "text/plain": [
       "('syed', 'ibrahim', 'hakeem', 'afrin')"
      ]
     },
     "execution_count": 46,
     "metadata": {},
     "output_type": "execute_result"
    }
   ],
   "source": [
    "s_names"
   ]
  },
  {
   "cell_type": "markdown",
   "id": "c0babfd7-e962-43bc-a4c2-8569d22a3c99",
   "metadata": {},
   "source": [
    "## Write a function count_correct_predictions that takes two lists: true_labels and model_predictions. The function should return the total number of times the prediction at a given position matches the true label at the same position."
   ]
  },
  {
   "cell_type": "code",
   "execution_count": 47,
   "id": "5d8237d6-1f47-4e7c-b206-605b094df058",
   "metadata": {},
   "outputs": [],
   "source": [
    "def count_correct_predictions(true_labels, model_predictions):\n",
    "    correct_predictions = 0\n",
    "    for t,m in zip(true_labels, model_predictions):\n",
    "        if t == m:\n",
    "            correct_predictions +=1\n",
    "    return correct_predictions"
   ]
  },
  {
   "cell_type": "code",
   "execution_count": 51,
   "id": "3f4f6c62-df06-4eee-be81-e175cc2aa949",
   "metadata": {},
   "outputs": [],
   "source": [
    "ground_truth =    ['cat', 'dog', 'dog', 'cat', 'bird', 'dog', 'bird']\n",
    "model_predictions = ['cat', 'cat', 'dog', 'cat', 'bard', 'dog', 'cat']"
   ]
  },
  {
   "cell_type": "code",
   "execution_count": 52,
   "id": "0f3807f9-1e8d-46a4-a125-80514e6cb184",
   "metadata": {},
   "outputs": [
    {
     "name": "stdout",
     "output_type": "stream",
     "text": [
      "The model made 4 correct predictions.\n"
     ]
    }
   ],
   "source": [
    "correct_count = count_correct_predictions(ground_truth, model_predictions)\n",
    "print(f\"The model made {correct_count} correct predictions.\")"
   ]
  },
  {
   "cell_type": "code",
   "execution_count": 53,
   "id": "53a6380f-d2a7-4c2b-8640-d64af838f42f",
   "metadata": {},
   "outputs": [
    {
     "name": "stdout",
     "output_type": "stream",
     "text": [
      "The model made 4 correct predictions.\n"
     ]
    }
   ],
   "source": [
    "def count_predictions(true_labels, model_predictions):\n",
    "    return sum(1 for t,m in zip(true_labels, model_predictions) if t == m)\n",
    "correct_count = count_predictions(ground_truth, model_predictions)\n",
    "print(f\"The model made {correct_count} correct predictions.\")"
   ]
  },
  {
   "cell_type": "markdown",
   "id": "2a8835fc-8f89-4773-ad10-d8b65a019a9b",
   "metadata": {},
   "source": [
    "## ENUMERATE"
   ]
  },
  {
   "cell_type": "code",
   "execution_count": 54,
   "id": "5ea21464-9181-49d2-b24f-4fdad202ddd8",
   "metadata": {},
   "outputs": [],
   "source": [
    "pets = ['dog', 'cat', 'lion', 'tiger', 'leapord']"
   ]
  },
  {
   "cell_type": "code",
   "execution_count": 55,
   "id": "8f3a385b-c017-4d1a-ad7d-413e2f426044",
   "metadata": {},
   "outputs": [
    {
     "name": "stdout",
     "output_type": "stream",
     "text": [
      "dog is number 1\n",
      "cat is number 2\n",
      "lion is number 3\n",
      "tiger is number 4\n",
      "leapord is number 5\n"
     ]
    }
   ],
   "source": [
    "for i, pet in enumerate(pets, start = 1):\n",
    "    print(f'{pet} is number {i}')"
   ]
  },
  {
   "cell_type": "markdown",
   "id": "81c41f7e-61ab-4578-84a3-33845bbbafa2",
   "metadata": {},
   "source": [
    "## Write a function create_word_to_index_map that takes a list of words. The function should find the unique words while preserving the order of their first appearance and return a dictionary mapping each unique word to its index."
   ]
  },
  {
   "cell_type": "code",
   "execution_count": 56,
   "id": "3860af2b-a5c2-4d80-be0d-a4553aa23fa0",
   "metadata": {},
   "outputs": [
    {
     "name": "stdout",
     "output_type": "stream",
     "text": [
      "{'the': 0, 'quick': 1, 'brown': 2, 'fox': 3, 'jumps': 4, 'over': 5, 'lazy': 6, 'dog': 7}\n"
     ]
    }
   ],
   "source": [
    "from typing import List, Dict\n",
    "\n",
    "def create_word_to_index_map(words: List[str]) -> Dict[str, int]:\n",
    "    \"\"\"\n",
    "    Creates a mapping from unique words to integer indices.\n",
    "    \"\"\"\n",
    "    # 1. Get a list of unique words from the input list, preserving the order\n",
    "    #    of their first appearance. A great Python idiom for this is:\n",
    "    unique_words = list(dict.fromkeys(words))\n",
    "    word_mapping = {}\n",
    "    for index, word in enumerate(unique_words):\n",
    "        word_mapping[word] = index\n",
    "    return word_mapping\n",
    "\n",
    "# Example Usage:\n",
    "sentence = \"the quick brown fox jumps over the lazy dog\"\n",
    "word_list = sentence.split()\n",
    "word_to_index = create_word_to_index_map(word_list)\n",
    "print(word_to_index)\n",
    "\n",
    "# Expected output:\n",
    "# {'the': 0, 'quick': 1, 'brown': 2, 'fox': 3, 'jumps': 4, 'over': 5, 'lazy': 6, 'dog': 7}"
   ]
  },
  {
   "cell_type": "code",
   "execution_count": null,
   "id": "12a51718-2692-47ec-a41a-b268584ac7ec",
   "metadata": {},
   "outputs": [],
   "source": []
  }
 ],
 "metadata": {
  "kernelspec": {
   "display_name": "Python [conda env:base] *",
   "language": "python",
   "name": "conda-base-py"
  },
  "language_info": {
   "codemirror_mode": {
    "name": "ipython",
    "version": 3
   },
   "file_extension": ".py",
   "mimetype": "text/x-python",
   "name": "python",
   "nbconvert_exporter": "python",
   "pygments_lexer": "ipython3",
   "version": "3.13.5"
  }
 },
 "nbformat": 4,
 "nbformat_minor": 5
}
