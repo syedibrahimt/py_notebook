{
 "cells": [
  {
   "cell_type": "markdown",
   "id": "a99ac307-c971-457b-96aa-da608d32ae35",
   "metadata": {},
   "source": [
    "## Recap from Day 1"
   ]
  },
  {
   "cell_type": "code",
   "execution_count": 1,
   "id": "729aad40-50b2-4d70-b539-ae8734bd5cbb",
   "metadata": {},
   "outputs": [],
   "source": [
    "from collections import defaultdict, Counter"
   ]
  },
  {
   "cell_type": "code",
   "execution_count": 2,
   "id": "50235a24-35af-4ef0-a8a0-5ec08aa91977",
   "metadata": {},
   "outputs": [],
   "source": [
    "sentence = 'In the name of Allah. the entirely merciful and the especially merciful'"
   ]
  },
  {
   "cell_type": "code",
   "execution_count": 4,
   "id": "8691bb0b-51b4-45de-ac21-ca27087948b4",
   "metadata": {},
   "outputs": [
    {
     "data": {
      "text/plain": [
       "defaultdict(int,\n",
       "            {'in': 1,\n",
       "             'the': 3,\n",
       "             'name': 1,\n",
       "             'of': 1,\n",
       "             'allah.': 1,\n",
       "             'entirely': 1,\n",
       "             'merciful': 2,\n",
       "             'and': 1,\n",
       "             'especially': 1})"
      ]
     },
     "execution_count": 4,
     "metadata": {},
     "output_type": "execute_result"
    }
   ],
   "source": [
    "word_counter = defaultdict(int)\n",
    "for word in sentence.split():\n",
    "    word_counter[word.lower()] += 1\n",
    "word_counter"
   ]
  },
  {
   "cell_type": "code",
   "execution_count": 5,
   "id": "2b5a93a8-405e-411d-86d7-7535f64c5022",
   "metadata": {},
   "outputs": [
    {
     "name": "stdout",
     "output_type": "stream",
     "text": [
      "Counter({'the': 3, 'merciful': 2, 'In': 1, 'name': 1, 'of': 1, 'Allah.': 1, 'entirely': 1, 'and': 1, 'especially': 1})\n"
     ]
    }
   ],
   "source": [
    "grouped_words = Counter(sentence.split())\n",
    "print(grouped_words)"
   ]
  },
  {
   "cell_type": "code",
   "execution_count": 6,
   "id": "00fd6c7e-9931-4c0c-aa8d-06bde8ecf4a8",
   "metadata": {},
   "outputs": [
    {
     "data": {
      "text/plain": [
       "[('the', 3), ('merciful', 2)]"
      ]
     },
     "execution_count": 6,
     "metadata": {},
     "output_type": "execute_result"
    }
   ],
   "source": [
    "grouped_words.most_common(2)"
   ]
  },
  {
   "cell_type": "markdown",
   "id": "68b748d6-b6e8-4a0b-b2d6-0e210a152443",
   "metadata": {},
   "source": [
    "## Closing the Recap From Day1"
   ]
  },
  {
   "cell_type": "code",
   "execution_count": null,
   "id": "e149d4f1-8255-49f9-97ca-97a318e11909",
   "metadata": {},
   "outputs": [],
   "source": []
  }
 ],
 "metadata": {
  "kernelspec": {
   "display_name": "Python [conda env:base] *",
   "language": "python",
   "name": "conda-base-py"
  },
  "language_info": {
   "codemirror_mode": {
    "name": "ipython",
    "version": 3
   },
   "file_extension": ".py",
   "mimetype": "text/x-python",
   "name": "python",
   "nbconvert_exporter": "python",
   "pygments_lexer": "ipython3",
   "version": "3.13.5"
  }
 },
 "nbformat": 4,
 "nbformat_minor": 5
}
